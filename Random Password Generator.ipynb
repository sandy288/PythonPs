{
 "cells": [
  {
   "cell_type": "code",
   "execution_count": 90,
   "metadata": {},
   "outputs": [],
   "source": [
    "from random import sample \n",
    "import struct"
   ]
  },
  {
   "cell_type": "code",
   "execution_count": 91,
   "metadata": {},
   "outputs": [
    {
     "name": "stdout",
     "output_type": "stream",
     "text": [
      "what is the number of letters\n",
      "2\n",
      "what is the number of symbols\n",
      "3\n",
      "what is the number of numbers\n",
      "4\n",
      "Password generated is['7', '5', '3', '4'] ['?', '%', '#'] ['o', 'a']\n"
     ]
    }
   ],
   "source": [
    "ulc = \"abcdefghijklmnopqrstuvwxyzABCDEFGHIJKLMNOPQRSTUVWXYZ\"\n",
    "n = \"0123456789\"\n",
    "s = \"!@#$%^&*()?\"\n",
    "\n",
    "print(\"what is the number of letters\")\n",
    "let=int(input())\n",
    "\n",
    "print(\"what is the number of symbols\")\n",
    "sym=int(input())\n",
    "\n",
    "print(\"what is the number of numbers\")\n",
    "num=int(input())\n",
    "\n",
    "#print(\"The password generated is\" +str(sample(n,num))+str(sample(s,sym))+str(sample(ulc,let)))\n",
    "\n",
    "total = int(let+sym+num)\n",
    "\n",
    "if total >= 6:\n",
    "    print(\"Password generated is\", end ='')\n",
    "    p = \"\".join(str(sample(n,num))+\" \"+str(sample(s,sym))+\" \"+str(sample(ulc,let)))\n",
    "    print(p)\n",
    "    \n",
    "else:\n",
    "    print(\"length is less than 6 \")\n",
    "    \n",
    "\n"
   ]
  },
  {
   "cell_type": "code",
   "execution_count": null,
   "metadata": {},
   "outputs": [],
   "source": []
  },
  {
   "cell_type": "code",
   "execution_count": null,
   "metadata": {},
   "outputs": [],
   "source": []
  }
 ],
 "metadata": {
  "kernelspec": {
   "display_name": "Python 3",
   "language": "python",
   "name": "python3"
  },
  "language_info": {
   "codemirror_mode": {
    "name": "ipython",
    "version": 3
   },
   "file_extension": ".py",
   "mimetype": "text/x-python",
   "name": "python",
   "nbconvert_exporter": "python",
   "pygments_lexer": "ipython3",
   "version": "3.6.8"
  }
 },
 "nbformat": 4,
 "nbformat_minor": 2
}
