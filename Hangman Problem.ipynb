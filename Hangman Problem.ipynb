{
 "cells": [
  {
   "cell_type": "markdown",
   "metadata": {},
   "source": [
    "DRAFT-1"
   ]
  },
  {
   "cell_type": "code",
   "execution_count": null,
   "metadata": {},
   "outputs": [],
   "source": [
    "\n",
    "word = \"APPLE\"\n",
    "turns=2*len(word)\n",
    "typed = []\n",
    "userw = []\n",
    "\n",
    "typed = []\n",
    "\n",
    "\n",
    "while turns > 0:\n",
    "    \n",
    "    \n",
    "    usr = input(\"guess the character , 3 chances\")\n",
    "    \n",
    "    \n",
    "    for r in word:\n",
    "        if usr == r or (r in userw):\n",
    "            \n",
    "            if(usr == r):\n",
    "                userw.append(usr)\n",
    "                print(usr)\n",
    "            \n",
    "            else:\n",
    "                print(r)\n",
    "            \n",
    "        else:\n",
    "            print(\"_\")\n",
    "    \n",
    "    turns -= 1 \n",
    "    print(\"          \")\n",
    "    #print(\"The word is\")\n",
    "    #print(*userw, sep=\",\")"
   ]
  },
  {
   "cell_type": "code",
   "execution_count": null,
   "metadata": {},
   "outputs": [],
   "source": [
    "#make a diff list which stores letters enterd by user, and allow user to enter each letter only once."
   ]
  },
  {
   "cell_type": "code",
   "execution_count": null,
   "metadata": {},
   "outputs": [],
   "source": [
    "#make it enter at a particular location\n"
   ]
  },
  {
   "cell_type": "code",
   "execution_count": null,
   "metadata": {},
   "outputs": [],
   "source": [
    "#dont print the word just directley say won or not"
   ]
  },
  {
   "cell_type": "markdown",
   "metadata": {},
   "source": [
    "DRAFT 2"
   ]
  },
  {
   "cell_type": "code",
   "execution_count": null,
   "metadata": {},
   "outputs": [],
   "source": [
    "\n",
    "word = \"APPLE\"\n",
    "turns=2*len(word)\n",
    "typed = []\n",
    "userw = []\n",
    "\n",
    "typed = []\n",
    "\n",
    "\n",
    "while turns > 0:\n",
    "    \n",
    "    \n",
    "    usr = input(\"guess the character , 3 chances\")\n",
    "    \n",
    "    if(len(typed) == 0) or (usr not in typed):\n",
    "        typed.append(usr)\n",
    "        \n",
    "        for r in word:\n",
    "            if usr == r or (r in userw):\n",
    "            \n",
    "                if(usr == r):\n",
    "                    userw.append(usr)\n",
    "                    print(usr)\n",
    "            \n",
    "                else:\n",
    "                    print(r)\n",
    "            \n",
    "            else:\n",
    "                print(\"_\")\n",
    "    \n",
    "        turns -= 1 \n",
    "        print(\"          \")\n",
    "    \n",
    "    else:\n",
    "        print(\"you have entered this letter b4, try new :-)\")\n",
    "    \n",
    "    if(len(userw) == len(word)):\n",
    "        print(\"you won the game....!!!!!\")\n",
    "    else:\n",
    "        print(\"Keep on trying...\")\n",
    "        \n",
    "\n",
    "    \n",
    "    #print(\"The word is\")\n",
    "    #print(*userw, sep=\",\")"
   ]
  },
  {
   "cell_type": "code",
   "execution_count": null,
   "metadata": {},
   "outputs": [],
   "source": []
  },
  {
   "cell_type": "code",
   "execution_count": null,
   "metadata": {},
   "outputs": [],
   "source": []
  }
 ],
 "metadata": {
  "kernelspec": {
   "display_name": "Python 3",
   "language": "python",
   "name": "python3"
  },
  "language_info": {
   "codemirror_mode": {
    "name": "ipython",
    "version": 3
   },
   "file_extension": ".py",
   "mimetype": "text/x-python",
   "name": "python",
   "nbconvert_exporter": "python",
   "pygments_lexer": "ipython3",
   "version": "3.6.9"
  }
 },
 "nbformat": 4,
 "nbformat_minor": 2
}
