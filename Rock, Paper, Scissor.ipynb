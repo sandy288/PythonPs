{
 "cells": [
  {
   "cell_type": "code",
   "execution_count": 1,
   "metadata": {},
   "outputs": [],
   "source": [
    "from random import randint"
   ]
  },
  {
   "cell_type": "code",
   "execution_count": 2,
   "metadata": {},
   "outputs": [
    {
     "name": "stdout",
     "output_type": "stream",
     "text": [
      "Program to play Rock, Paper, Scissor\n",
      "enter a value 1:rock, 2:paper, 3:scissor1\n",
      "Computer's choice:Scissor3\n",
      "User won:1\n",
      "enter a value 1:rock, 2:paper, 3:scissor2\n",
      "Computer's choice:Rock1\n",
      "User won:2\n",
      "enter a value 1:rock, 2:paper, 3:scissor3\n",
      "Computer's choice:Rock1\n",
      "Computer won:1\n",
      "enter a value 1:rock, 2:paper, 3:scissor2\n",
      "Computer's choice:Paper2\n",
      "same value Zero pts each\n",
      "enter a value 1:rock, 2:paper, 3:scissor1\n",
      "Computer's choice:Rock1\n",
      "same value Zero pts each\n",
      "enter a value 1:rock, 2:paper, 3:scissor3\n",
      "Computer's choice:Rock1\n",
      "Computer won:2\n",
      "enter a value 1:rock, 2:paper, 3:scissor1\n",
      "Computer's choice:Paper2\n",
      "Computer won:3\n",
      "Computer WIns, ;-( You lost\n"
     ]
    }
   ],
   "source": [
    "key = randint(1,4)\n",
    "inc_c = 0\n",
    "inc_u = 0\n",
    "\n",
    "print(\"Program to play Rock, Paper, Scissor\")\n",
    "\n",
    "for x in range(1,30):\n",
    "    comp = randint(1,3)\n",
    "    usr = int(input(\"enter a value 1:rock, 2:paper, 3:scissor\"))\n",
    "    \n",
    "    \n",
    "    if comp == 1:\n",
    "        print(\"Computer's choice:Rock\"+str(comp))\n",
    "    elif comp == 2:\n",
    "        print(\"Computer's choice:Paper\"+str(comp))\n",
    "    else:\n",
    "        print(\"Computer's choice:Scissor\"+str(comp))\n",
    "        \n",
    "    \n",
    "    if ((usr == 1 and comp == 2) or (usr == 2 and usr == 3) or (usr == 3 and comp == 1)):\n",
    "        \n",
    "        inc_c+=1\n",
    "        print(\"Computer won:\"+str(inc_c))\n",
    "        \n",
    "        if(inc_c == 3):\n",
    "            print(\"Computer WIns, ;-( You lost\")\n",
    "            break\n",
    "        \n",
    "    elif ((usr == 1 and comp == 3) or (usr == 2 and comp == 1) or (usr == 3 and comp == 2)):\n",
    "        \n",
    "        inc_u+=1\n",
    "        print(\"User won:\"+str(inc_u))\n",
    "        \n",
    "        if(inc_u == 3):\n",
    "            print(\"U win the game Congratulations....;-)...!!!\")\n",
    "            break\n",
    "        \n",
    "    else:\n",
    "        print(\"same value Zero pts each\")\n",
    "        \n",
    "        \n",
    "        \n",
    "    \n",
    "    \n",
    "\n",
    "\n",
    "\n",
    "    "
   ]
  },
  {
   "cell_type": "code",
   "execution_count": null,
   "metadata": {},
   "outputs": [],
   "source": []
  },
  {
   "cell_type": "code",
   "execution_count": null,
   "metadata": {},
   "outputs": [],
   "source": []
  }
 ],
 "metadata": {
  "kernelspec": {
   "display_name": "Python 3",
   "language": "python",
   "name": "python3"
  },
  "language_info": {
   "codemirror_mode": {
    "name": "ipython",
    "version": 3
   },
   "file_extension": ".py",
   "mimetype": "text/x-python",
   "name": "python",
   "nbconvert_exporter": "python",
   "pygments_lexer": "ipython3",
   "version": "3.6.8"
  }
 },
 "nbformat": 4,
 "nbformat_minor": 2
}
